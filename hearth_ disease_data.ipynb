{
  "nbformat": 4,
  "nbformat_minor": 0,
  "metadata": {
    "colab": {
      "provenance": [],
      "gpuType": "T4"
    },
    "kernelspec": {
      "name": "python3",
      "display_name": "Python 3"
    },
    "language_info": {
      "name": "python"
    },
    "accelerator": "GPU"
  },
  "cells": [
    {
      "cell_type": "code",
      "source": [
        "!pip install kaggle"
      ],
      "metadata": {
        "colab": {
          "base_uri": "https://localhost:8080/"
        },
        "id": "NXo24ytjAXGS",
        "outputId": "d709cda5-0bb9-4c4b-d3cc-5fa32e49cb54"
      },
      "execution_count": 43,
      "outputs": [
        {
          "output_type": "stream",
          "name": "stdout",
          "text": [
            "Requirement already satisfied: kaggle in /usr/local/lib/python3.10/dist-packages (1.6.17)\n",
            "Requirement already satisfied: six>=1.10 in /usr/local/lib/python3.10/dist-packages (from kaggle) (1.16.0)\n",
            "Requirement already satisfied: certifi>=2023.7.22 in /usr/local/lib/python3.10/dist-packages (from kaggle) (2024.8.30)\n",
            "Requirement already satisfied: python-dateutil in /usr/local/lib/python3.10/dist-packages (from kaggle) (2.8.2)\n",
            "Requirement already satisfied: requests in /usr/local/lib/python3.10/dist-packages (from kaggle) (2.32.3)\n",
            "Requirement already satisfied: tqdm in /usr/local/lib/python3.10/dist-packages (from kaggle) (4.66.5)\n",
            "Requirement already satisfied: python-slugify in /usr/local/lib/python3.10/dist-packages (from kaggle) (8.0.4)\n",
            "Requirement already satisfied: urllib3 in /usr/local/lib/python3.10/dist-packages (from kaggle) (2.0.7)\n",
            "Requirement already satisfied: bleach in /usr/local/lib/python3.10/dist-packages (from kaggle) (6.1.0)\n",
            "Requirement already satisfied: webencodings in /usr/local/lib/python3.10/dist-packages (from bleach->kaggle) (0.5.1)\n",
            "Requirement already satisfied: text-unidecode>=1.3 in /usr/local/lib/python3.10/dist-packages (from python-slugify->kaggle) (1.3)\n",
            "Requirement already satisfied: charset-normalizer<4,>=2 in /usr/local/lib/python3.10/dist-packages (from requests->kaggle) (3.3.2)\n",
            "Requirement already satisfied: idna<4,>=2.5 in /usr/local/lib/python3.10/dist-packages (from requests->kaggle) (3.8)\n"
          ]
        }
      ]
    },
    {
      "cell_type": "code",
      "source": [
        "! mkdir ~/.kaggle\n",
        "! cp kaggle.json ~/.kaggle/\n",
        "! chmod 600 ~/.kaggle/kaggle.json"
      ],
      "metadata": {
        "colab": {
          "base_uri": "https://localhost:8080/"
        },
        "id": "3tpm_46EBSIS",
        "outputId": "8591b463-13ba-42b2-f233-9f982feb0a0f"
      },
      "execution_count": 44,
      "outputs": [
        {
          "output_type": "stream",
          "name": "stdout",
          "text": [
            "mkdir: cannot create directory ‘/root/.kaggle’: File exists\n"
          ]
        }
      ]
    },
    {
      "cell_type": "code",
      "source": [
        "!kaggle competitions download -c titanic\n",
        "!kaggle datasets download -d redwankarimsony/heart-disease-data"
      ],
      "metadata": {
        "colab": {
          "base_uri": "https://localhost:8080/"
        },
        "id": "FsV6uShyAbU-",
        "outputId": "cdd37a01-e54c-4ef3-cabd-840d53d21a07"
      },
      "execution_count": 131,
      "outputs": [
        {
          "output_type": "stream",
          "name": "stdout",
          "text": [
            "titanic.zip: Skipping, found more recently modified local copy (use --force to force download)\n",
            "403 - Forbidden - Permission 'datasets.get' was denied\n"
          ]
        }
      ]
    },
    {
      "cell_type": "code",
      "source": [
        "! unzip heart-disease-data.zip -d data"
      ],
      "metadata": {
        "colab": {
          "base_uri": "https://localhost:8080/"
        },
        "id": "bzdN5EeUCVHY",
        "outputId": "03453354-38bb-494b-da02-ebec3f3c47dc"
      },
      "execution_count": 46,
      "outputs": [
        {
          "output_type": "stream",
          "name": "stdout",
          "text": [
            "Archive:  heart-disease-data.zip\n",
            "replace data/heart_disease_uci.csv? [y]es, [n]o, [A]ll, [N]one, [r]ename: "
          ]
        }
      ]
    },
    {
      "cell_type": "code",
      "source": [
        "# data/load_data.py\n",
        "\n",
        "import pandas as pd\n",
        "from sklearn.model_selection import train_test_split\n",
        "from sklearn.preprocessing import LabelEncoder  # Import LabelEncoder\n",
        "from sklearn.preprocessing import StandardScaler\n",
        "\n",
        "import warnings\n",
        "\n",
        "warnings.filterwarnings(action=\"ignore\")\n",
        "\n",
        "def load_data(filepath):\n",
        "    # Load dataset into pandas dataframe\n",
        "    df = pd.read_csv(filepath)\n",
        "\n",
        "    # Handle missing values (if any)\n",
        "    df.fillna(method='ffill', inplace=True)\n",
        "    df.dropna(inplace=True)\n",
        "    df.drop_duplicates(inplace=True)\n",
        "    df.reset_index(drop=True, inplace=True)\n",
        "\n",
        "    # Convert categorical variables to numerical using LabelEncoder\n",
        "    label_encoder = LabelEncoder()\n",
        "\n",
        "    df['sex'] = label_encoder.fit_transform(df['sex']) # Convert 'sex' column to numerical labels\n",
        "    df['cp'] = label_encoder.fit_transform(df['cp']) # Convert 'cp' column to numerical labels\n",
        "    df['fbs'] = label_encoder.fit_transform(df['fbs']) # Convert 'fbs' column to numerical labels\n",
        "    df['restecg'] = label_encoder.fit_transform(df['restecg']) # Convert 'restecg' column to numerical labels\n",
        "    df['exang'] = label_encoder.fit_transform(df['exang']) # Convert 'exang' column to numerical labels\n",
        "    df['slope'] = label_encoder.fit_transform(df['slope']) # Convert 'slope' column to numerical labels\n",
        "    df['ca'] = label_encoder.fit_transform(df['ca']) # Convert 'ca' column to numerical labels\n",
        "    df['thal'] = label_encoder.fit_transform(df['thal']) # Convert 'thal' column to numerical labels\n",
        "    df['dataset'] = label_encoder.fit_transform(df['dataset']) # Convert 'target' column to numerical labels\n",
        "    df['num'] = label_encoder.fit_transform(df['num']) # Convert 'target' column to numerical labels\n",
        "\n",
        "\n",
        "    return df\n",
        "\n",
        "def split_data(df, target_column='sex'):\n",
        "\n",
        "   # Separate features (X) and target (y)\n",
        "    X = df.drop(columns=['id','sex'])\n",
        "    y = df['sex']\n",
        "\n",
        "    # Split the data into training and test sets\n",
        "    X_train, X_test, y_train, y_test = train_test_split(X, y, test_size=0.2, random_state=42)\n",
        "\n",
        "    scaler = StandardScaler()\n",
        "    X_train = scaler.fit_transform(X_train)\n",
        "    X_test = scaler.transform(X_test)\n",
        "\n",
        "\n",
        "    return X_train, X_test, y_train, y_test\n"
      ],
      "metadata": {
        "id": "mKN4bXtjFssZ"
      },
      "execution_count": 404,
      "outputs": []
    },
    {
      "cell_type": "code",
      "source": [
        "# analysis/exploratory_analysis.py\n",
        "\n",
        "import matplotlib.pyplot as plt\n",
        "\n",
        "def plot_target_distribution(df):\n",
        "    # Plot the distribution of the target variable (heart disease presence)\n",
        "    plt.figure(figsize=(6, 4))\n",
        "    df['target'].value_counts().plot(kind='bar', color=['blue', 'orange'])\n",
        "    plt.title('Heart Disease Distribution')\n",
        "    plt.xlabel('Presence of Heart Disease')\n",
        "    plt.ylabel('Count')\n",
        "    plt.show()\n",
        "\n",
        "def plot_age_distribution(df):\n",
        "    # Plot the distribution of age\n",
        "    plt.figure(figsize=(6, 4))\n",
        "    df['age'].plot(kind='hist', bins=30, color='purple')\n",
        "    plt.title('Age Distribution')\n",
        "    plt.xlabel('Age')\n",
        "    plt.ylabel('Count')\n",
        "    plt.show()\n"
      ],
      "metadata": {
        "id": "6c2zXySCG_QP"
      },
      "execution_count": 405,
      "outputs": []
    },
    {
      "cell_type": "code",
      "source": [
        "# models/model.py\n",
        "\n",
        "from sklearn.linear_model import LogisticRegression\n",
        "from sklearn.metrics import accuracy_score, confusion_matrix\n",
        "\n",
        "def build_and_train_model(X_train, y_train):\n",
        "    # Create a Logistic Regression model\n",
        "    model = LogisticRegression()\n",
        "\n",
        "    # Train the model\n",
        "    model.fit(X_train, y_train)\n",
        "\n",
        "    return model\n",
        "\n",
        "def evaluate_model(model, X_test, y_test):\n",
        "    # Predict on the test data\n",
        "    y_pred = model.predict(X_test)\n",
        "\n",
        "    # Calculate accuracy\n",
        "    accuracy = accuracy_score(y_test, y_pred)\n",
        "\n",
        "    # Print accuracy and confusion matrix\n",
        "    print(f'Accuracy: {accuracy:.2f}')\n",
        "    print('Confusion Matrix:')\n",
        "    print(confusion_matrix(y_test, y_pred))\n"
      ],
      "metadata": {
        "id": "RjG14XvNJQbd"
      },
      "execution_count": 406,
      "outputs": []
    },
    {
      "cell_type": "code",
      "source": [
        "# main.py\n",
        "\n",
        "#from data.load_data import load_data, split_data\n",
        "#from analysis.exploratory_analysis import plot_target_distribution, plot_age_distribution\n",
        "#from models.model import build_and_train_model, evaluate_model\n",
        "\n",
        "# Load the heart disease dataset\n",
        "data_filepath = 'data/heart_disease_uci.csv'  # Adjust the path as per your dataset location\n",
        "df = load_data(data_filepath)\n",
        "df = df.dropna()\n",
        "df = df.drop_duplicates()\n",
        "\n",
        "# Perform Exploratory Data Analysis (EDA)\n",
        "# plot_target_distribution(df)\n",
        "plot_age_distribution(df)\n",
        "\n",
        "# Split the data into training and testing sets\n",
        "X_train, X_test, y_train, y_test = split_data(df)\n",
        "\n",
        "\n",
        "# Build and train the model\n",
        "model = build_and_train_model(X_train, y_train)\n",
        "\n",
        "# Evaluate the model\n",
        "evaluate_model(model, X_test, y_test)\n"
      ],
      "metadata": {
        "colab": {
          "base_uri": "https://localhost:8080/",
          "height": 479
        },
        "id": "W7Fs7-MXJTnN",
        "outputId": "53b77842-db4c-4b1a-9534-c346b2eab27e"
      },
      "execution_count": 407,
      "outputs": [
        {
          "output_type": "display_data",
          "data": {
            "text/plain": [
              "<Figure size 600x400 with 1 Axes>"
            ],
            "image/png": "[encoded data removed]"
          },
          "metadata": {}
        },
        {
          "output_type": "stream",
          "name": "stdout",
          "text": [
            "Accuracy: 0.77\n",
            "Confusion Matrix:\n",
            "[[  4  40]\n",
            " [  2 138]]\n"
          ]
        }
      ]
    },
    {
      "cell_type": "code",
      "source": [
        "import seaborn as sns\n",
        "\n",
        "sns.countplot(data=df, x=\"sex\")\n",
        "plt.title(\"Distribution of heart attack\")\n",
        "plt.show()"
      ],
      "metadata": {
        "colab": {
          "base_uri": "https://localhost:8080/",
          "height": 472
        },
        "id": "NC4uBJrcX9m2",
        "outputId": "2f6a142e-22e9-462a-f951-7aaa2ddb6a81"
      },
      "execution_count": 408,
      "outputs": [
        {
          "output_type": "display_data",
          "data": {
            "text/plain": [
              "<Figure size 640x480 with 1 Axes>"
            ],
            "image/png": "[encoded data removed]"
          },
          "metadata": {}
        }
      ]
    },
    {
      "cell_type": "code",
      "source": [
        "\n",
        "# Import necessary libraries\n",
        "import pandas as pd\n",
        "import numpy as np\n",
        "import matplotlib.pyplot as plt\n",
        "import seaborn as sns\n",
        "from sklearn.impute import SimpleImputer\n",
        "from sklearn.model_selection import train_test_split\n",
        "from sklearn.preprocessing import StandardScaler\n",
        "from sklearn.metrics import accuracy_score, classification_report\n",
        "\n",
        "from sklearn.linear_model import LogisticRegression\n",
        "from sklearn.tree import DecisionTreeClassifier\n",
        "from sklearn.ensemble import RandomForestClassifier\n",
        "from sklearn.svm import SVC\n",
        "from sklearn.neighbors import KNeighborsClassifier\n",
        "from sklearn.ensemble import GradientBoostingClassifier\n",
        "from sklearn.ensemble import AdaBoostClassifier\n",
        "from sklearn.naive_bayes import GaussianNB\n",
        "from sklearn.neural_network import MLPClassifier\n",
        "import xgboost as xgb\n",
        "from sklearn.preprocessing import StandardScaler\n",
        "from sklearn.preprocessing import LabelEncoder  # Import LabelEncoder\n",
        "\n",
        "\n",
        "\n",
        "models = {\n",
        "    \"Logistic Regression\": LogisticRegression(),\n",
        "    \"Decision Tree\": DecisionTreeClassifier(),\n",
        "    \"Random Forest\": RandomForestClassifier(),\n",
        "    \"SVM\": SVC(),\n",
        "    \"KNN\": KNeighborsClassifier(),\n",
        "    \"Naive Bayes\": GaussianNB(),\n",
        "    \"MLP Neural Network\": MLPClassifier()\n",
        "}\n",
        "\n",
        "\n",
        "\n",
        "for name, model in models.items():\n",
        "    print(f\"Training {name}...\")\n",
        "    model = model.fit(X_train, y_train)\n",
        "    y_pred = model.predict(X_test)\n",
        "    accuracy = accuracy_score(y_test, y_pred)\n",
        "    print(f\"{name} Accuracy: {np.round(accuracy,2)}\")\n",
        "    print(classification_report(y_test, y_pred))\n",
        "\n",
        "\n",
        "for name, model in models.items():\n",
        "    model = model.fit(X_train, y_train)\n",
        "    y_pred = model.predict(X_test)\n",
        "    accuracy = accuracy_score(y_test, y_pred)\n",
        "    print(f\"{name} accuracy: {np.round(accuracy,2)}\")"
      ],
      "metadata": {
        "colab": {
          "base_uri": "https://localhost:8080/"
        },
        "id": "w-3-TaV_Zavi",
        "outputId": "98443bb6-b825-42e6-e18d-978457f27c26"
      },
      "execution_count": 410,
      "outputs": [
        {
          "output_type": "stream",
          "name": "stdout",
          "text": [
            "Training Logistic Regression...\n",
            "Logistic Regression Accuracy: 0.77\n",
            "              precision    recall  f1-score   support\n",
            "\n",
            "           0       0.67      0.09      0.16        44\n",
            "           1       0.78      0.99      0.87       140\n",
            "\n",
            "    accuracy                           0.77       184\n",
            "   macro avg       0.72      0.54      0.51       184\n",
            "weighted avg       0.75      0.77      0.70       184\n",
            "\n",
            "Training Decision Tree...\n",
            "Decision Tree Accuracy: 0.71\n",
            "              precision    recall  f1-score   support\n",
            "\n",
            "           0       0.38      0.34      0.36        44\n",
            "           1       0.80      0.82      0.81       140\n",
            "\n",
            "    accuracy                           0.71       184\n",
            "   macro avg       0.59      0.58      0.58       184\n",
            "weighted avg       0.70      0.71      0.70       184\n",
            "\n",
            "Training Random Forest...\n",
            "Random Forest Accuracy: 0.77\n",
            "              precision    recall  f1-score   support\n",
            "\n",
            "           0       0.53      0.20      0.30        44\n",
            "           1       0.79      0.94      0.86       140\n",
            "\n",
            "    accuracy                           0.77       184\n",
            "   macro avg       0.66      0.57      0.58       184\n",
            "weighted avg       0.73      0.77      0.72       184\n",
            "\n",
            "Training SVM...\n",
            "SVM Accuracy: 0.77\n",
            "              precision    recall  f1-score   support\n",
            "\n",
            "           0       1.00      0.02      0.04        44\n",
            "           1       0.77      1.00      0.87       140\n",
            "\n",
            "    accuracy                           0.77       184\n",
            "   macro avg       0.88      0.51      0.46       184\n",
            "weighted avg       0.82      0.77      0.67       184\n",
            "\n",
            "Training KNN...\n",
            "KNN Accuracy: 0.71\n",
            "              precision    recall  f1-score   support\n",
            "\n",
            "           0       0.24      0.09      0.13        44\n",
            "           1       0.76      0.91      0.83       140\n",
            "\n",
            "    accuracy                           0.71       184\n",
            "   macro avg       0.50      0.50      0.48       184\n",
            "weighted avg       0.63      0.71      0.66       184\n",
            "\n",
            "Training Naive Bayes...\n",
            "Naive Bayes Accuracy: 0.65\n",
            "              precision    recall  f1-score   support\n",
            "\n",
            "           0       0.33      0.48      0.39        44\n",
            "           1       0.81      0.70      0.75       140\n",
            "\n",
            "    accuracy                           0.65       184\n",
            "   macro avg       0.57      0.59      0.57       184\n",
            "weighted avg       0.70      0.65      0.67       184\n",
            "\n",
            "Training MLP Neural Network...\n",
            "MLP Neural Network Accuracy: 0.77\n",
            "              precision    recall  f1-score   support\n",
            "\n",
            "           0       0.55      0.27      0.36        44\n",
            "           1       0.80      0.93      0.86       140\n",
            "\n",
            "    accuracy                           0.77       184\n",
            "   macro avg       0.67      0.60      0.61       184\n",
            "weighted avg       0.74      0.77      0.74       184\n",
            "\n",
            "Logistic Regression accuracy: 0.77\n",
            "Decision Tree accuracy: 0.69\n",
            "Random Forest accuracy: 0.75\n",
            "SVM accuracy: 0.77\n",
            "KNN accuracy: 0.71\n",
            "Naive Bayes accuracy: 0.65\n",
            "MLP Neural Network accuracy: 0.77\n"
          ]
        }
      ]
    },
    {
      "cell_type": "code",
      "source": [],
      "metadata": {
        "id": "r4Fs21G6cW03"
      },
      "execution_count": 409,
      "outputs": []
    }
  ]
}