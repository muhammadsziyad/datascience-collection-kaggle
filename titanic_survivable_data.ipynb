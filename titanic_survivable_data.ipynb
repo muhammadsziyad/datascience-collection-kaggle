{
  "nbformat": 4,
  "nbformat_minor": 0,
  "metadata": {
    "colab": {
      "provenance": [],
      "gpuType": "T4"
    },
    "kernelspec": {
      "name": "python3",
      "display_name": "Python 3"
    },
    "language_info": {
      "name": "python"
    },
    "accelerator": "GPU"
  },
  "cells": [
    {
      "cell_type": "code",
      "source": [
        "!pip install kaggle"
      ],
      "metadata": {
        "colab": {
          "base_uri": "https://localhost:8080/"
        },
        "id": "NXo24ytjAXGS",
        "outputId": "d3444eb4-0b3a-4f37-80e7-d6f09e21fb5b"
      },
      "execution_count": 7,
      "outputs": [
        {
          "output_type": "stream",
          "name": "stdout",
          "text": [
            "Requirement already satisfied: kaggle in /usr/local/lib/python3.10/dist-packages (1.6.17)\n",
            "Requirement already satisfied: six>=1.10 in /usr/local/lib/python3.10/dist-packages (from kaggle) (1.16.0)\n",
            "Requirement already satisfied: certifi>=2023.7.22 in /usr/local/lib/python3.10/dist-packages (from kaggle) (2024.8.30)\n",
            "Requirement already satisfied: python-dateutil in /usr/local/lib/python3.10/dist-packages (from kaggle) (2.8.2)\n",
            "Requirement already satisfied: requests in /usr/local/lib/python3.10/dist-packages (from kaggle) (2.32.3)\n",
            "Requirement already satisfied: tqdm in /usr/local/lib/python3.10/dist-packages (from kaggle) (4.66.5)\n",
            "Requirement already satisfied: python-slugify in /usr/local/lib/python3.10/dist-packages (from kaggle) (8.0.4)\n",
            "Requirement already satisfied: urllib3 in /usr/local/lib/python3.10/dist-packages (from kaggle) (2.0.7)\n",
            "Requirement already satisfied: bleach in /usr/local/lib/python3.10/dist-packages (from kaggle) (6.1.0)\n",
            "Requirement already satisfied: webencodings in /usr/local/lib/python3.10/dist-packages (from bleach->kaggle) (0.5.1)\n",
            "Requirement already satisfied: text-unidecode>=1.3 in /usr/local/lib/python3.10/dist-packages (from python-slugify->kaggle) (1.3)\n",
            "Requirement already satisfied: charset-normalizer<4,>=2 in /usr/local/lib/python3.10/dist-packages (from requests->kaggle) (3.3.2)\n",
            "Requirement already satisfied: idna<4,>=2.5 in /usr/local/lib/python3.10/dist-packages (from requests->kaggle) (3.8)\n"
          ]
        }
      ]
    },
    {
      "cell_type": "code",
      "source": [
        "! mkdir ~/.kaggle\n",
        "! cp kaggle.json ~/.kaggle/\n",
        "! chmod 600 ~/.kaggle/kaggle.json"
      ],
      "metadata": {
        "id": "3tpm_46EBSIS"
      },
      "execution_count": 10,
      "outputs": []
    },
    {
      "cell_type": "code",
      "source": [
        "!kaggle competitions download -c titanic"
      ],
      "metadata": {
        "colab": {
          "base_uri": "https://localhost:8080/"
        },
        "id": "FsV6uShyAbU-",
        "outputId": "c4b2483a-f264-467e-ad02-75a62a7e64c5"
      },
      "execution_count": 11,
      "outputs": [
        {
          "output_type": "stream",
          "name": "stdout",
          "text": [
            "Downloading titanic.zip to /content\n",
            "\r  0% 0.00/34.1k [00:00<?, ?B/s]\n",
            "\r100% 34.1k/34.1k [00:00<00:00, 51.2MB/s]\n"
          ]
        }
      ]
    },
    {
      "cell_type": "code",
      "source": [
        "! unzip titanic.zip -d data"
      ],
      "metadata": {
        "colab": {
          "base_uri": "https://localhost:8080/"
        },
        "id": "bzdN5EeUCVHY",
        "outputId": "56298489-f2cc-44de-fa57-12ed9de933c3"
      },
      "execution_count": 18,
      "outputs": [
        {
          "output_type": "stream",
          "name": "stdout",
          "text": [
            "Archive:  titanic.zip\n",
            "  inflating: data/gender_submission.csv  \n",
            "  inflating: data/test.csv           \n",
            "  inflating: data/train.csv          \n"
          ]
        }
      ]
    },
    {
      "cell_type": "code",
      "source": [
        "# data/load_data.py\n",
        "\n",
        "import pandas as pd\n",
        "from sklearn.model_selection import train_test_split\n",
        "from sklearn.preprocessing import LabelEncoder\n",
        "\n",
        "def load_data(filepath):\n",
        "    # Load dataset into pandas dataframe\n",
        "    df = pd.read_csv(filepath)\n",
        "\n",
        "    # Handle missing values\n",
        "    df.fillna(method='ffill', inplace=True)\n",
        "\n",
        "    # Drop irrelevant columns (example: 'Name', 'Ticket', 'Cabin')\n",
        "    df = df.drop(columns=['Name', 'Ticket', 'Cabin'])\n",
        "\n",
        "    # Convert categorical columns to numeric (e.g., 'Sex', 'Embarked')\n",
        "    # Convert 'Sex' using label encoding\n",
        "    df['Sex'] = LabelEncoder().fit_transform(df['Sex'])  # Male=1, Female=0\n",
        "\n",
        "    # Convert 'Embarked' using one-hot encoding\n",
        "    df = pd.get_dummies(df, columns=['Embarked'], drop_first=True)\n",
        "\n",
        "    return df\n",
        "\n",
        "def split_data(df, target_column='Survived'):\n",
        "    # Separate features (X) and target (y)\n",
        "    X = df.drop(columns=[target_column])\n",
        "    y = df[target_column]\n",
        "\n",
        "    # Split the data into training and test sets\n",
        "    X_train, X_test, y_train, y_test = train_test_split(X, y, test_size=0.2, random_state=42)\n",
        "\n",
        "    return X_train, X_test, y_train, y_test\n"
      ],
      "metadata": {
        "id": "2m-xkHYYAeOf"
      },
      "execution_count": 20,
      "outputs": []
    },
    {
      "cell_type": "code",
      "source": [
        "# analysis/exploratory_analysis.py\n",
        "\n",
        "import pandas as pd\n",
        "import matplotlib.pyplot as plt\n",
        "\n",
        "def plot_survival_distribution(df):\n",
        "    # Plot the distribution of the target variable (Survived)\n",
        "    plt.figure(figsize=(6, 4))\n",
        "    df['Survived'].value_counts().plot(kind='bar', color=['blue', 'orange'])\n",
        "    plt.title('Survival Distribution')\n",
        "    plt.xlabel('Survived')\n",
        "    plt.ylabel('Count')\n",
        "    plt.show()\n",
        "\n",
        "def plot_pclass_distribution(df):\n",
        "    # Plot the distribution of Passenger Class (Pclass)\n",
        "    plt.figure(figsize=(6, 4))\n",
        "    df['Pclass'].value_counts().plot(kind='bar', color=['green', 'red', 'blue'])\n",
        "    plt.title('Passenger Class Distribution')\n",
        "    plt.xlabel('Pclass')\n",
        "    plt.ylabel('Count')\n",
        "    plt.show()\n",
        "\n",
        "def plot_age_distribution(df):\n",
        "    # Plot the distribution of Age\n",
        "    plt.figure(figsize=(6, 4))\n",
        "    df['Age'].plot(kind='hist', bins=30, color='purple')\n",
        "    plt.title('Age Distribution')\n",
        "    plt.xlabel('Age')\n",
        "    plt.ylabel('Count')\n",
        "    plt.show()\n"
      ],
      "metadata": {
        "id": "5CSHpf5pBu8q"
      },
      "execution_count": 21,
      "outputs": []
    },
    {
      "cell_type": "code",
      "source": [
        "# models/model.py\n",
        "\n",
        "from sklearn.ensemble import RandomForestClassifier\n",
        "from sklearn.metrics import accuracy_score, confusion_matrix\n",
        "\n",
        "def build_and_train_model(X_train, y_train):\n",
        "    # Create a RandomForest model\n",
        "    model = RandomForestClassifier(n_estimators=100, random_state=42)\n",
        "\n",
        "    # Train the model\n",
        "    model.fit(X_train, y_train)\n",
        "\n",
        "    return model\n",
        "\n",
        "def evaluate_model(model, X_test, y_test):\n",
        "    # Predict on the test data\n",
        "    y_pred = model.predict(X_test)\n",
        "\n",
        "    # Calculate accuracy\n",
        "    accuracy = accuracy_score(y_test, y_pred)\n",
        "\n",
        "    # Print accuracy and confusion matrix\n",
        "    print(f'Accuracy: {accuracy:.2f}')\n",
        "    print('Confusion Matrix:')\n",
        "    print(confusion_matrix(y_test, y_pred))\n"
      ],
      "metadata": {
        "id": "AGaXnA2mBx2A"
      },
      "execution_count": 22,
      "outputs": []
    },
    {
      "cell_type": "code",
      "source": [
        "# main.py\n",
        "\n",
        "# from data.load_data import load_data, split_data\n",
        "# from analysis.exploratory_analysis import plot_survival_distribution, plot_pclass_distribution, plot_age_distribution\n",
        "# from models.model import build_and_train_model, evaluate_model\n",
        "\n",
        "# Load dataset\n",
        "data_filepath = 'data/train.csv'\n",
        "df = load_data(data_filepath)\n",
        "\n",
        "# Perform Exploratory Data Analysis (EDA)\n",
        "plot_survival_distribution(df)\n",
        "plot_pclass_distribution(df)\n",
        "plot_age_distribution(df)\n",
        "\n",
        "# Split data into training and testing sets\n",
        "X_train, X_test, y_train, y_test = split_data(df)\n",
        "\n",
        "# Build and train the model\n",
        "model = build_and_train_model(X_train, y_train)\n",
        "\n",
        "# Evaluate the model\n",
        "evaluate_model(model, X_test, y_test)\n"
      ],
      "metadata": {
        "colab": {
          "base_uri": "https://localhost:8080/",
          "height": 1000
        },
        "id": "cp2RR8NlB1cO",
        "outputId": "2f446c95-1375-4fd9-e0fc-a48746af06da"
      },
      "execution_count": 23,
      "outputs": [
        {
          "output_type": "stream",
          "name": "stderr",
          "text": [
            "<ipython-input-20-6d0d0c942a6b>:12: FutureWarning: DataFrame.fillna with 'method' is deprecated and will raise in a future version. Use obj.ffill() or obj.bfill() instead.\n",
            "  df.fillna(method='ffill', inplace=True)\n"
          ]
        },
        {
          "output_type": "display_data",
          "data": {
            "text/plain": [
              "<Figure size 600x400 with 1 Axes>"
            ],
            "image/png": "[encoded data removed]"
          },
          "metadata": {}
        },
        {
          "output_type": "display_data",
          "data": {
            "text/plain": [
              "<Figure size 600x400 with 1 Axes>"
            ],
            "image/png": "[encoded data removed]"
          },
          "metadata": {}
        },
        {
          "output_type": "display_data",
          "data": {
            "text/plain": [
              "<Figure size 600x400 with 1 Axes>"
            ],
            "image/png": "[encoded data removed]"
          },
          "metadata": {}
        },
        {
          "output_type": "stream",
          "name": "stdout",
          "text": [
            "Accuracy: 0.81\n",
            "Confusion Matrix:\n",
            "[[92 13]\n",
            " [21 53]]\n"
          ]
        }
      ]
    }
  ]
}